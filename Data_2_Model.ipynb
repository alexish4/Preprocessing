{
 "cells": [
  {
   "cell_type": "code",
   "execution_count": 6,
   "id": "e64dd639",
   "metadata": {},
   "outputs": [],
   "source": [
    "%matplotlib inline\n",
    "import pandas as pd\n",
    "pd.options.mode.chained_assignment = None\n",
    "import numpy as np\n",
    "import matplotlib.pyplot as plt\n",
    "import seaborn as sns\n",
    "from sklearn.preprocessing import normalize, LabelEncoder\n",
    "from sklearn.preprocessing import StandardScaler, MinMaxScaler\n",
    "from sklearn.ensemble import RandomForestClassifier\n",
    "from sklearn.metrics import accuracy_score\n",
    "from sklearn.metrics import classification_report  \n",
    "from sklearn.metrics import confusion_matrix\n",
    "import tensorflow as tf\n",
    "from tensorflow import keras\n",
    "from sklearn.model_selection import train_test_split"
   ]
  },
  {
   "cell_type": "code",
   "execution_count": 7,
   "id": "7bac4a03",
   "metadata": {},
   "outputs": [],
   "source": [
    "data_url = 'Data2.csv'\n",
    "df = pd.read_csv(data_url)"
   ]
  },
  {
   "cell_type": "code",
   "execution_count": 8,
   "id": "379756ae",
   "metadata": {},
   "outputs": [],
   "source": [
    "def model_eval(actual, predicted):\n",
    "  acc_score = accuracy_score(actual, predicted)\n",
    "  conf_matrix = confusion_matrix(actual, predicted)\n",
    "  clas_rep = classification_report(actual, predicted)\n",
    "  print('Model Accuracy is: ', round(acc_score, 2))\n",
    "  print(conf_matrix)\n",
    "  print(clas_rep)"
   ]
  },
  {
   "cell_type": "code",
   "execution_count": 9,
   "id": "3925b56f",
   "metadata": {},
   "outputs": [],
   "source": [
    "y = df['Class']\n",
    "X = df.iloc[:, df.columns != 'Class']\n",
    "\n",
    "X_train, X_test, y_train, y_test = train_test_split(X, y, test_size=0.2, random_state=42)"
   ]
  },
  {
   "cell_type": "markdown",
   "id": "68bdefa9",
   "metadata": {},
   "source": [
    "## Random Forest"
   ]
  },
  {
   "cell_type": "code",
   "execution_count": 10,
   "id": "cbf82246",
   "metadata": {},
   "outputs": [
    {
     "name": "stdout",
     "output_type": "stream",
     "text": [
      "Model Accuracy is:  1.0\n",
      "[[42342    11]\n",
      " [    1 22988]]\n",
      "              precision    recall  f1-score   support\n",
      "\n",
      "           0       1.00      1.00      1.00     42353\n",
      "           1       1.00      1.00      1.00     22989\n",
      "\n",
      "    accuracy                           1.00     65342\n",
      "   macro avg       1.00      1.00      1.00     65342\n",
      "weighted avg       1.00      1.00      1.00     65342\n",
      "\n"
     ]
    }
   ],
   "source": [
    "rf = RandomForestClassifier()\n",
    "rf.fit(X_train, y_train)\n",
    "preds_rf_test = rf.predict(X_test)\n",
    "model_eval(y_test, preds_rf_test)"
   ]
  },
  {
   "cell_type": "markdown",
   "id": "755d505c",
   "metadata": {},
   "source": [
    "## Neural Network"
   ]
  },
  {
   "cell_type": "code",
   "execution_count": 12,
   "id": "2791956a",
   "metadata": {},
   "outputs": [
    {
     "name": "stdout",
     "output_type": "stream",
     "text": [
      "Epoch 1/15\n"
     ]
    },
    {
     "name": "stderr",
     "output_type": "stream",
     "text": [
      "C:\\Users\\lequa\\anaconda3\\Lib\\site-packages\\keras\\src\\layers\\core\\dense.py:87: UserWarning: Do not pass an `input_shape`/`input_dim` argument to a layer. When using Sequential models, prefer using an `Input(shape)` object as the first layer in the model instead.\n",
      "  super().__init__(activity_regularizer=activity_regularizer, **kwargs)\n"
     ]
    },
    {
     "name": "stdout",
     "output_type": "stream",
     "text": [
      "\u001b[1m6535/6535\u001b[0m \u001b[32m━━━━━━━━━━━━━━━━━━━━\u001b[0m\u001b[37m\u001b[0m \u001b[1m7s\u001b[0m 911us/step - accuracy: 0.7607 - loss: 7.9799 - val_accuracy: 0.7881 - val_loss: 1.2847\n",
      "Epoch 2/15\n",
      "\u001b[1m6535/6535\u001b[0m \u001b[32m━━━━━━━━━━━━━━━━━━━━\u001b[0m\u001b[37m\u001b[0m \u001b[1m5s\u001b[0m 836us/step - accuracy: 0.8935 - loss: 1.3182 - val_accuracy: 0.9412 - val_loss: 0.2548\n",
      "Epoch 3/15\n",
      "\u001b[1m6535/6535\u001b[0m \u001b[32m━━━━━━━━━━━━━━━━━━━━\u001b[0m\u001b[37m\u001b[0m \u001b[1m6s\u001b[0m 847us/step - accuracy: 0.9174 - loss: 0.6605 - val_accuracy: 0.9504 - val_loss: 0.1357\n",
      "Epoch 4/15\n",
      "\u001b[1m6535/6535\u001b[0m \u001b[32m━━━━━━━━━━━━━━━━━━━━\u001b[0m\u001b[37m\u001b[0m \u001b[1m6s\u001b[0m 877us/step - accuracy: 0.9267 - loss: 0.3157 - val_accuracy: 0.9424 - val_loss: 0.2081\n",
      "Epoch 5/15\n",
      "\u001b[1m6535/6535\u001b[0m \u001b[32m━━━━━━━━━━━━━━━━━━━━\u001b[0m\u001b[37m\u001b[0m \u001b[1m7s\u001b[0m 1ms/step - accuracy: 0.9352 - loss: 0.2222 - val_accuracy: 0.9437 - val_loss: 0.1777\n",
      "Epoch 6/15\n",
      "\u001b[1m6535/6535\u001b[0m \u001b[32m━━━━━━━━━━━━━━━━━━━━\u001b[0m\u001b[37m\u001b[0m \u001b[1m6s\u001b[0m 964us/step - accuracy: 0.9390 - loss: 0.1722 - val_accuracy: 0.9477 - val_loss: 0.1404\n",
      "Epoch 7/15\n",
      "\u001b[1m6535/6535\u001b[0m \u001b[32m━━━━━━━━━━━━━━━━━━━━\u001b[0m\u001b[37m\u001b[0m \u001b[1m7s\u001b[0m 1ms/step - accuracy: 0.9460 - loss: 0.1503 - val_accuracy: 0.9523 - val_loss: 0.1194\n",
      "Epoch 8/15\n",
      "\u001b[1m6535/6535\u001b[0m \u001b[32m━━━━━━━━━━━━━━━━━━━━\u001b[0m\u001b[37m\u001b[0m \u001b[1m6s\u001b[0m 934us/step - accuracy: 0.9484 - loss: 0.1407 - val_accuracy: 0.9484 - val_loss: 0.1523\n",
      "Epoch 9/15\n",
      "\u001b[1m6535/6535\u001b[0m \u001b[32m━━━━━━━━━━━━━━━━━━━━\u001b[0m\u001b[37m\u001b[0m \u001b[1m6s\u001b[0m 941us/step - accuracy: 0.9483 - loss: 0.1391 - val_accuracy: 0.9485 - val_loss: 0.1401\n",
      "Epoch 10/15\n",
      "\u001b[1m6535/6535\u001b[0m \u001b[32m━━━━━━━━━━━━━━━━━━━━\u001b[0m\u001b[37m\u001b[0m \u001b[1m6s\u001b[0m 892us/step - accuracy: 0.9502 - loss: 0.1317 - val_accuracy: 0.9551 - val_loss: 0.1136\n",
      "Epoch 11/15\n",
      "\u001b[1m6535/6535\u001b[0m \u001b[32m━━━━━━━━━━━━━━━━━━━━\u001b[0m\u001b[37m\u001b[0m \u001b[1m6s\u001b[0m 921us/step - accuracy: 0.9514 - loss: 0.1286 - val_accuracy: 0.9535 - val_loss: 0.1127\n",
      "Epoch 12/15\n",
      "\u001b[1m6535/6535\u001b[0m \u001b[32m━━━━━━━━━━━━━━━━━━━━\u001b[0m\u001b[37m\u001b[0m \u001b[1m6s\u001b[0m 927us/step - accuracy: 0.9513 - loss: 0.1301 - val_accuracy: 0.8828 - val_loss: 0.2698\n",
      "Epoch 13/15\n",
      "\u001b[1m6535/6535\u001b[0m \u001b[32m━━━━━━━━━━━━━━━━━━━━\u001b[0m\u001b[37m\u001b[0m \u001b[1m6s\u001b[0m 932us/step - accuracy: 0.9519 - loss: 0.1282 - val_accuracy: 0.9501 - val_loss: 0.1290\n",
      "Epoch 14/15\n",
      "\u001b[1m6535/6535\u001b[0m \u001b[32m━━━━━━━━━━━━━━━━━━━━\u001b[0m\u001b[37m\u001b[0m \u001b[1m7s\u001b[0m 994us/step - accuracy: 0.9518 - loss: 0.1248 - val_accuracy: 0.9169 - val_loss: 0.2144\n",
      "Epoch 15/15\n",
      "\u001b[1m6535/6535\u001b[0m \u001b[32m━━━━━━━━━━━━━━━━━━━━\u001b[0m\u001b[37m\u001b[0m \u001b[1m6s\u001b[0m 876us/step - accuracy: 0.9534 - loss: 0.1218 - val_accuracy: 0.9519 - val_loss: 0.1199\n",
      "\u001b[1m2042/2042\u001b[0m \u001b[32m━━━━━━━━━━━━━━━━━━━━\u001b[0m\u001b[37m\u001b[0m \u001b[1m1s\u001b[0m 565us/step - accuracy: 0.9531 - loss: 0.1159\n",
      "Test Accuracy: 0.9531694650650024\n"
     ]
    }
   ],
   "source": [
    "model = keras.Sequential([\n",
    "    keras.layers.Dense(64, activation='relu', input_shape=(X_train.shape[1],)),\n",
    "    keras.layers.Dense(32, activation='relu'),\n",
    "    keras.layers.Dense(1, activation='sigmoid')  \n",
    "])\n",
    "model.compile(optimizer='adam', loss='binary_crossentropy', metrics=['accuracy'])\n",
    "\n",
    "model.fit(X_train, y_train, epochs=15, batch_size=32, validation_split=0.2)\n",
    "\n",
    "test_loss, test_accuracy = model.evaluate(X_test, y_test)\n",
    "print(\"Test Accuracy:\", test_accuracy)"
   ]
  },
  {
   "cell_type": "code",
   "execution_count": 16,
   "id": "2297873f",
   "metadata": {},
   "outputs": [
    {
     "name": "stdout",
     "output_type": "stream",
     "text": [
      "\u001b[1m2042/2042\u001b[0m \u001b[32m━━━━━━━━━━━━━━━━━━━━\u001b[0m\u001b[37m\u001b[0m \u001b[1m1s\u001b[0m 644us/step\n",
      "Model Accuracy is:  0.95\n",
      "[[42028   325]\n",
      " [ 2735 20254]]\n",
      "              precision    recall  f1-score   support\n",
      "\n",
      "           0       0.94      0.99      0.96     42353\n",
      "           1       0.98      0.88      0.93     22989\n",
      "\n",
      "    accuracy                           0.95     65342\n",
      "   macro avg       0.96      0.94      0.95     65342\n",
      "weighted avg       0.95      0.95      0.95     65342\n",
      "\n"
     ]
    }
   ],
   "source": [
    "y_pred_prob = model.predict(X_test)\n",
    "y_pred = (y_pred_prob > 0.5).astype(int) \n",
    "model_eval(y_test, y_pred)"
   ]
  },
  {
   "cell_type": "code",
   "execution_count": null,
   "id": "38ee145d",
   "metadata": {},
   "outputs": [],
   "source": []
  }
 ],
 "metadata": {
  "kernelspec": {
   "display_name": "Python 3 (ipykernel)",
   "language": "python",
   "name": "python3"
  },
  "language_info": {
   "codemirror_mode": {
    "name": "ipython",
    "version": 3
   },
   "file_extension": ".py",
   "mimetype": "text/x-python",
   "name": "python",
   "nbconvert_exporter": "python",
   "pygments_lexer": "ipython3",
   "version": "3.11.4"
  }
 },
 "nbformat": 4,
 "nbformat_minor": 5
}
